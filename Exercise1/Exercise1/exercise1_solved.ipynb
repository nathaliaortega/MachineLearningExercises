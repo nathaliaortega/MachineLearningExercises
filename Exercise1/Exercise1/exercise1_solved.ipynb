{
  "nbformat": 4,
  "nbformat_minor": 0,
  "metadata": {
    "kernelspec": {
      "display_name": "Python 3",
      "language": "python",
      "name": "python3"
    },
    "language_info": {
      "codemirror_mode": {
        "name": "ipython",
        "version": 3
      },
      "file_extension": ".py",
      "mimetype": "text/x-python",
      "name": "python",
      "nbconvert_exporter": "python",
      "pygments_lexer": "ipython3",
      "version": "3.6.6"
    },
    "colab": {
      "name": "exercise1.ipynb",
      "provenance": [],
      "collapsed_sections": []
    }
  },
  "cells": [
    {
      "cell_type": "markdown",
      "metadata": {
        "id": "pmeMP3VOoIUA",
        "colab_type": "text"
      },
      "source": [
        "# Ejercicio de programación 1: Regresión lineal\n",
        "\n",
        "## Introducción\n",
        "\n",
        "En este ejercicio, implementará una regresión lineal y podrá ver cómo funciona en los datos. Antes de comenzar este ejercicio de programación, recomendamos ver las conferencias en video y completar las preguntas de revisión para los temas asociados.\n",
        "\n",
        "Toda la información que necesita para resolver esta tarea se encuentra en este jupyter notebook, y todo el código que implementará tendrá lugar dentro de este jupyter notebook.\n",
        "\n",
        "Antes de comenzar con los ejercicios, debemos importar todas las librerías necesarias para este ejercicio de programación. A lo largo del curso, utilizaremos [`numpy`](http://www.numpy.org/) para todas las matrices y operaciones de matriz y [`matplotlib`](https://matplotlib.org/) para graficar."
      ]
    },
    {
      "cell_type": "code",
      "metadata": {
        "id": "U5XGwlOhoIUD",
        "colab_type": "code",
        "colab": {}
      },
      "source": [
        "# utilizado para manipular directorios\n",
        "import os\n",
        "\n",
        "# Computación científica y vectorial para python\n",
        "import numpy as np\n",
        "\n",
        "# Librería para graficar\n",
        "import matplotlib.pyplot as plt\n",
        "from mpl_toolkits.mplot3d import Axes3D  # Se necesita para graficar superficies en 3D\n",
        "\n",
        "\n",
        "# Le indica a matplotlib que inserte graficas en el jupyter notebook\n",
        "%matplotlib inline"
      ],
      "execution_count": null,
      "outputs": []
    },
    {
      "cell_type": "markdown",
      "metadata": {
        "id": "Yz2GVmwioIUK",
        "colab_type": "text"
      },
      "source": [
        "## Ejercicios\n",
        "\n",
        "| Sección | Parte                                           \n",
        "|---------| ----                                             \n",
        "| 1       | [Ejercicio de calentamiento](#section1)                  \n",
        "| 2       | [Calcular la función de costo para una variable](#section2)\n",
        "| 3       | [Gradiente descendente para una variable](#section3) \n",
        "| 4       | [Normalización de características](#section4)             \n",
        "| 5       | [Calcular la función de costo para varias variables](#section5)     \n",
        "| 6       | [Gradiente descendente para múltiples variables](#section5) \n",
        "| 7       | [Ecuaciones normales](#section7)                        \n",
        "\n",
        "## Debugging\n",
        "\n",
        "Algunas cosas para tener en cuenta al realizar este ejercicio:\n",
        "\n",
        "- Los índices de los arreglos en Python comienzan en cero, no en uno (Al contrario de OCTAVE/MATLAB). \n",
        "\n",
        "- Hay una distinción importante entre los arreglos de python (llamados `lista` o `tupla`) y las matrices de `numpy`. Debe usar matrices `numpy` en todos sus cálculos. Las operaciones de vector/matriz solo funcionan con matrices `numpy`. Las listas de Python no son compatibles con las operaciones de vector (solo se deben usar para ciclos).\n",
        "\n",
        "- Si ve muchos errores en el tiempo de ejecución, revise sus operaciones matriciales para asegurarse de que está sumando y multiplicando matrices de dimensiones compatibles. Imprimir las dimensiones de las matrices `numpy` utilizando la propiedad` shape` le ayudará a corregir errores.\n",
        "\n",
        "- Por defecto, `numpy` interpreta que los operadores matemáticos son operadores relacionales. Si desea hacer una multiplicación matricial, debe usar la función `dot` en` numpy`. Por ejemplo, si `A` y` B` son dos matrices `numpy`, entonces la operación de matriz AB es `np.dot (A, B)`. Tenga en cuenta que para matrices o vectores bidimensionales (unidimensionales), esto también es equivalente a `A @ B` (requiere python> = 3.5)."
      ]
    },
    {
      "cell_type": "markdown",
      "metadata": {
        "id": "fZqXRga0oIUP",
        "colab_type": "text"
      },
      "source": [
        "<a id=\"section1\"></a>\n",
        "## 1 Funciones simples de `numpy` y python\n",
        "\n",
        "La primera parte de esta tarea te permite practicar con python y la sintaxis `numpy`. En la siguiente celda, encontrará el esquema de una función `python`. Modifícalo para devolver una matriz de identidad 5 x 5 completando el siguiente código:\n",
        "\n",
        "```python\n",
        "A = np.eye(5)\n",
        "```\n",
        "<a id=\"warmUpExercise\"></a>"
      ]
    },
    {
      "cell_type": "code",
      "metadata": {
        "id": "HkyFRRbDoIUQ",
        "colab_type": "code",
        "colab": {}
      },
      "source": [
        "def ejercicioCalentamiento():\n",
        "    \"\"\"\n",
        "    Función de ejemplo en Python que calcula la matriz de identidad\n",
        "    \n",
        "    Devuelve\n",
        "    -------\n",
        "    A : array_like\n",
        "        La matriz 5x5\n",
        "    \n",
        "    Instrucciones:\n",
        "    ------------\n",
        "    Devuelve la matriz identidad 5x5\n",
        "    \"\"\"    \n",
        "    # ======== TU CODIGO AQUÍ ======\n",
        "    A = np.eye(5)   # Modifica esta línea\n",
        "    \n",
        "    # ==============================\n",
        "    return A"
      ],
      "execution_count": null,
      "outputs": []
    },
    {
      "cell_type": "markdown",
      "metadata": {
        "id": "7ujOXWtdoIUW",
        "colab_type": "text"
      },
      "source": [
        "La celda anterior solo define la función `ejercicioCalentamiento`. Ahora podemos ejecutar la siguiente celda para ver su salida. Deberías ver algo similar a la siguiente matriz:\n",
        "\n",
        "```python\n",
        "array([[ 1.,  0.,  0.,  0.,  0.],\n",
        "       [ 0.,  1.,  0.,  0.,  0.],\n",
        "       [ 0.,  0.,  1.,  0.,  0.],\n",
        "       [ 0.,  0.,  0.,  1.,  0.],\n",
        "       [ 0.,  0.,  0.,  0.,  1.]])\n",
        "```"
      ]
    },
    {
      "cell_type": "code",
      "metadata": {
        "id": "bFWQrFneoIUX",
        "colab_type": "code",
        "colab": {
          "base_uri": "https://localhost:8080/",
          "height": 101
        },
        "outputId": "f5bef133-3b24-4862-90c9-3b983d1f6f05"
      },
      "source": [
        "ejercicioCalentamiento()"
      ],
      "execution_count": null,
      "outputs": [
        {
          "output_type": "execute_result",
          "data": {
            "text/plain": [
              "array([[1., 0., 0., 0., 0.],\n",
              "       [0., 1., 0., 0., 0.],\n",
              "       [0., 0., 1., 0., 0.],\n",
              "       [0., 0., 0., 1., 0.],\n",
              "       [0., 0., 0., 0., 1.]])"
            ]
          },
          "metadata": {
            "tags": []
          },
          "execution_count": 3
        }
      ]
    },
    {
      "cell_type": "markdown",
      "metadata": {
        "id": "UorJWHufoIUc",
        "colab_type": "text"
      },
      "source": [
        "## 2 Regresión lineal univariable\n",
        "\n",
        "Ahora implementarás una regresión lineal univariable para predecir las ganancias de un camión de comida. Supon que eres el CEO de una franquicia de restaurantes y estás considerando diferentes ciudades para abrir una nueva tienda. La cadena ya tiene camiones en varias ciudades y tienea datos de ganancias y poblaciones de las ciudades. Te gustaría utilizar estos datos para que te ayude a seleccionar a qué ciudad expandir tu franquicia.\n",
        "\n",
        "El archivo `Data / ex1data1.txt` contiene el conjunto de datos para nuestro problema de regresión lineal. La primera columna es la población de una ciudad (en 10,000s) y la segunda columna es la ganancia de un camión de comida en esa ciudad (en 10,000s). Un valor negativo para la ganancia indica una pérdida.\n",
        "\n",
        "Te proporcionamos el código necesario para cargar estos datos. El conjunto de datos se carga desde el archivo de datos en las variables `x` e ` y`:"
      ]
    },
    {
      "cell_type": "code",
      "metadata": {
        "id": "_-dkny4BoIUd",
        "colab_type": "code",
        "colab": {
          "base_uri": "https://localhost:8080/",
          "height": 34
        },
        "outputId": "3bd1f015-032e-44d1-b340-77c66fae9d6d"
      },
      "source": [
        "# Leer los datos separados por coma\n",
        "data = np.loadtxt(os.path.join('Data', 'ex1data1.txt'), delimiter=',')\n",
        "X, y = data[:, 0], data[:, 1]\n",
        "\n",
        "m = y.size  # Número de ejemplos de entrenamiento\n",
        "m"
      ],
      "execution_count": null,
      "outputs": [
        {
          "output_type": "execute_result",
          "data": {
            "text/plain": [
              "97"
            ]
          },
          "metadata": {
            "tags": []
          },
          "execution_count": 4
        }
      ]
    },
    {
      "cell_type": "markdown",
      "metadata": {
        "id": "n_jOEoT8oIUj",
        "colab_type": "text"
      },
      "source": [
        "### 2.1 Visualizar los datos\n",
        "\n",
        "Antes de comenzar cualquier tarea, a menudo es útil comprender los datos visualizándolos. Para este conjunto de datos, puedes usar un diagrama de dispersión para visualizar los datos, ya que solo tiene dos propiedades para graficar (profit and population). Muchos otros problemas que encontrarás en la vida real son multidimensionales y no se pueden graficar en un diagrama en 2D. Hay muchas librerías para graficar en Python (consulte esta [publicación de blog] (https://blog.modeanalytics.com/python-data-visualization-libraries/) para obtener un resumen de las más populares).\n",
        "\n",
        "En este curso, utilizaremos exclusivamente `matplotlib` para hacer todo nuestros gráficos. `matplotlib` es una de las librerías para graficar más populares en python y tiene amplias herramientas y funciones para hacer graficos hermosos. `pyplot` es un módulo dentro de` matplotlib` que proporciona una interfaz simplificada para las tareas de gráficos más comunes de `matplotlib`, imitando la interfaz para graficar de MATLAB.\n",
        "\n",
        "\n",
        "En la siguiente parte, tu primer trabajo es completar la función `plotData` a continuación. Modifica la función y completa el siguiente código:\n",
        "\n",
        "```python\n",
        "    plt.plot(x, y, 'ro', ms=10, mec='k')\n",
        "    plt.ylabel('Ganancia en $10,000')\n",
        "    plt.xlabel('Población de la ciudad en 10,000s')\n",
        "```"
      ]
    },
    {
      "cell_type": "code",
      "metadata": {
        "id": "elV-WqDwoIUk",
        "colab_type": "code",
        "colab": {}
      },
      "source": [
        "def plotData(x, y):\n",
        "    \"\"\"\n",
        "    Trazar los puntos de datos x e y en una nueva figura. Graficar los datos\n",
        "     y da a la figura etiquetas de población y ganancia en sus respectivos ejes.\n",
        "    \n",
        "     Parámetros\n",
        "     ----------\n",
        "     x: array_like\n",
        "         Valores de puntos de datos para el eje x.\n",
        "\n",
        "     y: array_like\n",
        "         Valores de puntos de datos para el eje y. Ten en cuenta que x e y deben tener el mismo tamaño.\n",
        "    \n",
        "     Instrucciones\n",
        "     ------------\n",
        "     Trace los datos de entrenamiento en una figura usando las funciones \"figure\" y \"plot\".\n",
        "     Establezca las etiquetas de los ejes utilizando las funciones \"xlabel\" y \"ylabel\".\n",
        "     Suponga que los datos de población y ganancia se han pasado como x\n",
        "     e y argumentos de esta función.\n",
        "    \n",
        "     Pista\n",
        "     ----\n",
        "     Puede usar la opción 'ro' con plot para que aparezcan los puntos de los datos en como circulos rojos.\n",
        "     Además, puedes hacer que los puntos sean más grandes al\n",
        "     usar plot (..., 'ro', ms = 10), donde 'ms' se refiere al tamaño del punto. \n",
        "     También puedes establecer el color del punto utilizando la propiedad `mec`.\n",
        "    \"\"\"\n",
        "    fig = plt.figure()  # Inicialice una nueva figura\n",
        "    \n",
        "    # ====================== TU CÓDIGO AQUÍ ======================= \n",
        "    plt.plot(x, y, 'ro', ms=10, mec='k')\n",
        "    plt.ylabel('Ganancia en $10,000')\n",
        "    plt.xlabel('Población de la ciudad en 10,000s')\n",
        "\n",
        "    # =============================================================\n"
      ],
      "execution_count": null,
      "outputs": []
    },
    {
      "cell_type": "markdown",
      "metadata": {
        "id": "ZymQQoGRoIUo",
        "colab_type": "text"
      },
      "source": [
        "Ahora ejecute la función definida con los datos cargados para visualizarlos. El resultado final debería parecerse a la siguiente figura:\n",
        "\n",
        "![](Figures/dataset1.png)\n",
        "\n",
        "Ejecute la siguiente celda para visualizar los datos."
      ]
    },
    {
      "cell_type": "code",
      "metadata": {
        "id": "xQ9ijNt0oIUp",
        "colab_type": "code",
        "colab": {
          "base_uri": "https://localhost:8080/",
          "height": 280
        },
        "outputId": "109f5941-a906-4b60-e256-0bab62e54060"
      },
      "source": [
        "plotData(X, y)"
      ],
      "execution_count": null,
      "outputs": [
        {
          "output_type": "display_data",
          "data": {
            "image/png": "[encoded data removed]",
            "text/plain": [
              "<Figure size 432x288 with 1 Axes>"
            ]
          },
          "metadata": {
            "tags": [],
            "needs_background": "light"
          }
        }
      ]
    },
    {
      "cell_type": "markdown",
      "metadata": {
        "id": "06qfk3ykoIUw",
        "colab_type": "text"
      },
      "source": [
        "Para obtener más información sobre la función para gráficas `matplotlib` y los argumentos que se le pueden proporcionar, puedes escribir `? Plt.plot` en una celda dentro del jupyter notebook. Esto, abre una página separada que muestra la documentación para la función solicitada. También puedes buscar en línea documentación para graficar.\n",
        "\n",
        "Para establecer los puntos en círculos rojos, utilizamos la opción `` o '' dentro de la función `plot`."
      ]
    },
    {
      "cell_type": "code",
      "metadata": {
        "id": "c4q1Pr3doIUw",
        "colab_type": "code",
        "colab": {}
      },
      "source": [
        "?plt.plot"
      ],
      "execution_count": null,
      "outputs": []
    },
    {
      "cell_type": "markdown",
      "metadata": {
        "id": "r6Kxc7OJoIU0",
        "colab_type": "text"
      },
      "source": [
        "<a id=\"section2\"></a>\n",
        "### 2.2 Gradiente Descendente\n",
        "\n",
        "En esta parte, ajustará los parámetros de regresión lineal $ \\ theta $ a nuestro conjunto de datos utilizando el gradiente descendente.\n",
        "\n",
        "#### 2.2.1 Actualizar las ecuaciones\n",
        "\n",
        "El objetivo de la regresión lineal es minimizar la función de costo\n",
        "\n",
        "$$ J(\\theta) = \\frac{1}{2m} \\sum_{i=1}^m \\left( h_{\\theta}(x^{(i)}) - y^{(i)}\\right)^2$$\n",
        "\n",
        "Donde la hipótesis $h_\\theta(x)$ está dada por el modelo lineal\n",
        "$$ h_\\theta(x) = \\theta^Tx = \\theta_0 + \\theta_1 x_1$$\n",
        "\n",
        "Recuerda que los parámetros del modelo son los valores $ \\ theta_j $. Estos son los valores que ajustarán para minimizar el costo $ J (\\ theta) $. Una forma de hacer esto es usando el algoritmo de gradiente descendente batch. El gradiente descendente batch, realiza la actualización en cada iteración\n",
        "\n",
        "$$ \\theta_j = \\theta_j - \\alpha \\frac{1}{m} \\sum_{i=1}^m \\left( h_\\theta(x^{(i)}) - y^{(i)}\\right)x_j^{(i)} \\qquad \\text{actualización simultánea } \\theta_j \\text{ para todos } j$$\n",
        "\n",
        "En cada iteración del gradiente descendente, los parámetros $ \\ theta_j $ se acercan a los valores óptimos que lograrán el costo más bajo J ($ \\ theta $).\n",
        "\n",
        "<div class=\"alert alert-block alert-warning\">\n",
        "** Nota de implementación: ** Almacenamos cada ejemplo como una fila en la matriz $ X $ en `numpy`. Para tener en cuenta el término de intercepción ($ \\ theta_0 $), agregamos una primera columna adicional a $ X $ y la configuramos con unos. Esto nos permite tratar $ \\ theta_0 $ como otra 'característica'.\n",
        "</div>\n",
        "\n",
        "\n",
        "#### 2.2.2 Implementación\n",
        "\n",
        "Ya hemos configurado los datos para la regresión lineal. En la siguiente celda, agregamos otra dimensión a nuestros datos para acomodar el término de intercepción $ \\ theta_0 $. **NO ejecute esta celda más de una vez.**"
      ]
    },
    {
      "cell_type": "code",
      "metadata": {
        "id": "IjO1qadWoIU0",
        "colab_type": "code",
        "colab": {}
      },
      "source": [
        "# Agregue una columna de unos a X. El 'stack' de funciones numpy une matrices a lo largo de un eje dado.\n",
        "# El primer eje (axis = 0) se refiere a filas (ejemplos de entrenamiento)\n",
        "# y el segundo eje (axis = 1) se refieren a columnas (características).\n",
        "X = np.stack([np.ones(m), X], axis=1)"
      ],
      "execution_count": null,
      "outputs": []
    },
    {
      "cell_type": "markdown",
      "metadata": {
        "id": "DJJk4bVHoIU5",
        "colab_type": "text"
      },
      "source": [
        "<a id=\"section2\"></a>\n",
        "#### 2.2.3 Calculando la función de costo $J(\\theta)$\n",
        "\n",
        "A medida que realizas el gradiente descendente para minimizar la función de costo $ J (\\ theta) $, es útil monitorear la convergencia calculando el costo. En esta sección, implementarás una función para calcular $ J (\\ theta) $ y así poder verificar la convergencia de la implementación de gradiente descendente.\n",
        "\n",
        "Tu próxima tarea es completar el código para la función `calcularCosto` que calcula $ J (\\ theta) $. Mientras lo haces, recuerda que las variables $ X $ y $ y $ no son escalares. $ X $ es una matriz cuyas filas representan los ejemplos de entrenamiento y $ y $ es un vector en el que cada elemento representa el valor en una fila dada de $ X $.\n",
        "<a id=\"computeCost\"></a>"
      ]
    },
    {
      "cell_type": "code",
      "metadata": {
        "id": "s7TAGHV5oIU5",
        "colab_type": "code",
        "colab": {}
      },
      "source": [
        "def calcularCosto(X, y, theta):\n",
        "    \"\"\"\n",
        "    Calcular el costo de la regresión lineal. Calcula el costo de usar theta como\n",
        "     parámetro de la regresión lineal para ajustar los puntos de datos en X e y.\n",
        "    \n",
        "     Parámetros\n",
        "     ----------\n",
        "     X: array_like\n",
        "         El conjunto de datos de entrada de forma (m x n + 1), donde m es el número de ejemplos,\n",
        "         y n es el número de características. Asumimos un vector de unos ya\n",
        "         agregado a las características, por lo que tenemos n + 1 columnas.\n",
        "    \n",
        "     y: array_like\n",
        "         Los valores de la función en cada punto de datos. Este es un vector de\n",
        "         forma (m,).\n",
        "    \n",
        "     theta: array_like\n",
        "         Los parámetros para la función de regresión. Este es un vector de\n",
        "         forma (n + 1,).\n",
        "    \n",
        "     Devuelve\n",
        "     -------\n",
        "     J: float\n",
        "         El valor de la función de costo.\n",
        "    \n",
        "     Instrucciones\n",
        "     ------------\n",
        "     Calcule el costo de una elección particular de theta.\n",
        "     Deberías poner a J al costo.\n",
        "    \"\"\"\n",
        "    \n",
        "    # inicializa valores útiles\n",
        "    m = y.size  # número de ejemplos de entrenamiento\n",
        "    \n",
        "    # Debes devolver las siguientes variables correctamente\n",
        "    J = 0\n",
        "    \n",
        "    # ====================== TU CÓDIGO AQUÍ =====================\n",
        "    error=0\n",
        "    for i in range(0,len(X)):\n",
        "      error+=((theta[0]+(theta[1]*X[i]))-y[i])**2\n",
        "    J=error/(2*len(X))\n",
        "    \n",
        "    # ===========================================================\n",
        "    return J"
      ],
      "execution_count": null,
      "outputs": []
    },
    {
      "cell_type": "markdown",
      "metadata": {
        "id": "J50uwr3BoIU9",
        "colab_type": "text"
      },
      "source": [
        "Una vez que haya completado la función, el siguiente paso ejecutará `calcularCosto` dos veces usando dos inicializaciones diferentes de $ \\ theta $. Verás el costo impreso en la pantalla."
      ]
    },
    {
      "cell_type": "code",
      "metadata": {
        "id": "CyqLfCFKoIU-",
        "colab_type": "code",
        "colab": {
          "base_uri": "https://localhost:8080/",
          "height": 134
        },
        "outputId": "648f299b-870f-4bd6-a09d-da0b9e93eed3"
      },
      "source": [
        "J = calcularCosto(X, y, theta=np.array([0.0, 0.0]))\n",
        "\n",
        "print('Con theta = [0, 0] \\nCosto calculado = %.2f' % J[1])\n",
        "print('valor de costo esperado (aproximadamente) 32.07\\n')\n",
        "\n",
        "# pruebas adicionales de la función de costo\n",
        "J = calcularCosto(X, y, theta=np.array([-1, 2]))\n",
        "print('Con theta = [-1, 2]\\nCosto calculado = %.2f' % J[1])\n",
        "print('valor de costo esperado (aproximadamente) 54.24')"
      ],
      "execution_count": null,
      "outputs": [
        {
          "output_type": "stream",
          "text": [
            "Con theta = [0, 0] \n",
            "Costo calculado = 32.07\n",
            "valor de costo esperado (aproximadamente) 32.07\n",
            "\n",
            "Con theta = [-1, 2]\n",
            "Costo calculado = 54.24\n",
            "valor de costo esperado (aproximadamente) 54.24\n"
          ],
          "name": "stdout"
        }
      ]
    },
    {
      "cell_type": "markdown",
      "metadata": {
        "id": "Ml-aNc3_oIVC",
        "colab_type": "text"
      },
      "source": [
        "<a id=\"section3\"></a>\n",
        "#### 2.2.4 Gradiente descendente\n",
        "\n",
        "A continuación, completarás una función que implementa el Gradiente descendente.\n",
        "La estructura de ciclo ya está escrita y solo necesitas proporcionar las actualizaciones a $ \\ theta $ dentro de cada iteración.\n",
        "\n",
        "Mientras lo haces, asegurate de comprender lo que estás tratando de optimizar y lo que se está actualizando. Ten en cuenta que el costo $ J (\\ theta) $ está parametrizado por el vector $ \\ theta $, no $ X $ y $ y $. Es decir, minimizamos el valor de $ J (\\ theta) $ cambiando los valores del vector $ \\ theta $, no cambiando $ X $ o $ y $. [Consulte las ecuaciones en este jupyter notebook] (# sección2) y las video conferencias. Una buena manera de verificar que el Gradiente descendente funciona correctamente es mirar el valor de $ J (\\ theta) $ y comprobar que disminuye con cada iteración.\n",
        "\n",
        "El código de inicio para la función `gradientDescent` llama a` calcularCosto` en cada iteración y guarda el costo en una lista de `python`. Suponiendo que haya implementado el Gradiente descendente y `calcularCosto` correctamente, su valor de $ J (\\ theta) $ nunca debería aumentar, y debería converger a un valor estable al final del algoritmo.\n",
        "\n",
        "<div class = \"alert alert-box alert-warning\">\n",
        "** Vectores y matrices en `numpy` ** - Notas importantes de implementación\n",
        "\n",
        "Un vector en `numpy` es una matriz unidimensional, por ejemplo` np.array ([1, 2, 3]) `es un vector. Una matriz en `numpy` es una matriz bidimensional, por ejemplo` np.array ([[1, 2, 3], [4, 5, 6]]) `. Sin embargo, lo siguiente todavía se considera una matriz `np.array ([[1, 2, 3]])` ya que tiene dos dimensiones, incluso si tiene una forma de 1x3 (que parece un vector).\n",
        "\n",
        "Dado lo anterior, la función `np.dot` que usaremos para todas las multiplicaciones de matrices / vectores tiene las siguientes propiedades:\n",
        "- Siempre realiza productos internos en vectores. Si `x = np.array ([1, 2, 3])`, entonces `np.dot (x, x)` es un escalar.\n",
        "- Para la multiplicación matriz-vector, entonces si $ X $ es una matriz $ m \\ veces n $ y $ y $ es un vector de longitud $ m $, entonces la operación `np.dot (y, X)` considera $ y $ como $ 1 \\ veces  m $ vector. Por otro lado, si $ y $ es un vector de longitud $ n $, entonces la operación `np.dot (X, y)` considera $ y $ como un vector $ n \\ veces 1 $.\n",
        "- Un vector puede ser promovido a una matriz usando `y [None]` o `[y [np.newaxis]`. Es decir, si `y = np.array ([1, 2, 3])` es un vector de tamaño 3, entonces `y [None,:]` es una matriz de forma $ 1 \\ veces 3 $. Podemos usar `y [:, None]` para obtener una forma de $ 3 \\ veces 1 $.\n",
        "<div>\n",
        "<a id=\"gradientDescent\"> </a>"
      ]
    },
    {
      "cell_type": "code",
      "metadata": {
        "id": "sjiiawpOoIVD",
        "colab_type": "code",
        "colab": {}
      },
      "source": [
        "def gradientDescent(X, y, theta, alpha, num_iters):\n",
        "    \"\"\"\n",
        "    Realiza gradiente descendente para aprender `theta`. Actualiza theta tomando `num_iters`\n",
        "    pasos de gradiente con tasa de aprendizaje `alfa`.\n",
        "    \n",
        "    Parámetros\n",
        "    ----------\n",
        "    X: array_like\n",
        "        El conjunto de datos de entrada de forma (m x n + 1).\n",
        "    \n",
        "    y: array_like\n",
        "        Valor en las características dadas. Un vector de forma (m,).\n",
        "    \n",
        "    theta: array_like\n",
        "        Valores iniciales para los parámetros de regresión lineal.\n",
        "        Un vector de forma (n + 1,).\n",
        "    \n",
        "    alfa: float\n",
        "        La tasa de aprendizaje.\n",
        "    \n",
        "    num_iters: int\n",
        "        El número de iteraciones para el gradiente descendente.\n",
        "    \n",
        "    Devuelve\n",
        "    -------\n",
        "    theta: array_like\n",
        "        Los parámetros de regresión lineal aprendidos. Un vector de forma (n + 1,).\n",
        "    \n",
        "    J_history: lista\n",
        "        Una lista de Python para los valores de la función de costo después de cada iteración.\n",
        "    \n",
        "    Instrucciones\n",
        "    ------------\n",
        "    Realiza un solo paso de gradiente en el vector de parámetros theta.\n",
        "\n",
        "    Durante la depuración, puede ser útil imprimir los valores de\n",
        "    la función de costo (calcularCosto) y el gradiente aquí.\n",
        "    \"\"\"\n",
        "    # inicializa valores útiles\n",
        "    m = y.shape[0]  # número de ejemplos de entrenamiento\n",
        "    \n",
        "    # hacer una copia de theta, para evitar cambiar la matriz original, ya que las matrices numpy\n",
        "    # se pasan por referencia a funciones\n",
        "    theta = theta.copy()\n",
        "    J_history = [] # Use una lista de Python para guardar el costo en cada iteración\n",
        "    xTrans = X.transpose()\n",
        "    for i in range(num_iters):\n",
        "        # ==================== TU CÓDIGO AQUÍ ================================= \n",
        "        m=len(X)\n",
        "        h=np.dot(X, theta)\n",
        "        loss = h - y\n",
        "        gradient = np.dot(xTrans, loss) / m\n",
        "        theta = theta - alpha * gradient\n",
        "        # temp[0]=theta[0]-(alpha/m)*(np.sum(loss))\n",
        "        # temp[1]=theta[1]-(alpha/m)*(np.sum((loss)*X[:,1]))\n",
        "        # theta=temp\n",
        "\n",
        "        # =====================================================================\n",
        "        \n",
        "        # guarde el costo de J en cada iteración\n",
        "        J_history.append(calcularCosto(X, y, theta))\n",
        "    return theta, J_history"
      ],
      "execution_count": null,
      "outputs": []
    },
    {
      "cell_type": "markdown",
      "metadata": {
        "id": "I1nd6drYoIVI",
        "colab_type": "text"
      },
      "source": [
        "Una vez que hayas terminado, llama a la función implementada `gradientDescent` e imprimw el $ \\ theta $ calculado. Inicializamos los parámetros $ \\ theta $ a 0 y la tasa de aprendizaje $ \\ alpha $ a 0.01. Ejecuta la siguiente celda para verificar tu código."
      ]
    },
    {
      "cell_type": "code",
      "metadata": {
        "id": "uuCJoAjroIVJ",
        "colab_type": "code",
        "colab": {
          "base_uri": "https://localhost:8080/",
          "height": 50
        },
        "outputId": "686018f5-7748-4375-a3cb-ccd55234ae8d"
      },
      "source": [
        "# inicializar parámetros de ajuste\n",
        "theta = np.zeros (2)\n",
        "\n",
        "# algunas configuraciones de gradiente descendente\n",
        "iterations = 1500\n",
        "alpha = 0.01\n",
        "\n",
        "theta, J_history = gradientDescent(X ,y, theta, alpha, iterations)\n",
        "\n",
        "print ('Theta encontrado por gradiente descendente: {: .4f}, {: .4f}'. format (* theta))\n",
        "print ('Valores esperados de theta (aproximadamente): [-3.6303, 1.1664]')"
      ],
      "execution_count": null,
      "outputs": [
        {
          "output_type": "stream",
          "text": [
            "Theta encontrado por gradiente descendente: -3.6303,  1.1664\n",
            "Valores esperados de theta (aproximadamente): [-3.6303, 1.1664]\n"
          ],
          "name": "stdout"
        }
      ]
    },
    {
      "cell_type": "markdown",
      "metadata": {
        "id": "R-jPfrRsoIVP",
        "colab_type": "text"
      },
      "source": [
        "Usaremos los parámetros finales para trazar el ajuste lineal. Los resultados deberían parecerse a la siguiente figura.\n",
        "\n",
        "![](Figures/regression_result.png)"
      ]
    },
    {
      "cell_type": "code",
      "metadata": {
        "id": "OMgg-9QioIVQ",
        "colab_type": "code",
        "colab": {
          "base_uri": "https://localhost:8080/",
          "height": 280
        },
        "outputId": "8c6b0da3-12a5-4dab-eb5f-265914bdf704"
      },
      "source": [
        "# grafica el ajuste lineal\n",
        "plotData(X[:, 1], y)\n",
        "plt.plot(X[:, 1], np.dot(X, theta), '-')\n",
        "plt.legend(['Datos de entrenamiento', 'Regresión lineal']);"
      ],
      "execution_count": null,
      "outputs": [
        {
          "output_type": "display_data",
          "data": {
            "image/png": "[encoded data removed]",
            "text/plain": [
              "<Figure size 432x288 with 1 Axes>"
            ]
          },
          "metadata": {
            "tags": [],
            "needs_background": "light"
          }
        }
      ]
    },
    {
      "cell_type": "markdown",
      "metadata": {
        "id": "Nn1w1Z0EoIVW",
        "colab_type": "text"
      },
      "source": [
        "Los valores finales para $ \\ theta $ también se usarán para hacer predicciones sobre la ganancia en áreas de 35,000 y 70,000 personas.\n",
        "\n",
        "<div class = \"alert alert-block alert-success\">\n",
        "Observa la forma en que las siguientes líneas usan la multiplicación de matrices, en lugar de la suma explícita o el bucle, para calcular las predicciones. Este es un ejemplo de vectorización de código en `numpy`.\n",
        "</div>\n",
        "\n",
        "<div class = \"alert alert-block alert-success\">\n",
        "Ten en cuenta que el primer argumento de la función `numpy`` dot` es una lista de python. `numpy` puede convertir internamente listas de Python **válidas** en matrices numpy cuando se proporcionan explícitamente como argumentos para funciones` numpy`.\n",
        "</div>\n"
      ]
    },
    {
      "cell_type": "code",
      "metadata": {
        "id": "80eCuu1poIVX",
        "colab_type": "code",
        "colab": {
          "base_uri": "https://localhost:8080/",
          "height": 84
        },
        "outputId": "e65ba637-c0e1-4434-964d-78ba650f3da1"
      },
      "source": [
        "# Predecir valores para poblaciones de 35,000 y 70,000\n",
        "predict1 = np.dot([1, 3.5], theta)\n",
        "print('Para población = 35,000, predecimos una ganancia de {:.2f}\\n'.format(predict1*10000))\n",
        "\n",
        "predict2 = np.dot([1, 7], theta)\n",
        "print('Para población = 70,000, predecimos una ganancia de {:.2f}\\n'.format(predict2*10000))"
      ],
      "execution_count": null,
      "outputs": [
        {
          "output_type": "stream",
          "text": [
            "Para población = 35,000, predecimos una ganancia de 4519.77\n",
            "\n",
            "Para población = 70,000, predecimos una ganancia de 45342.45\n",
            "\n"
          ],
          "name": "stdout"
        }
      ]
    },
    {
      "cell_type": "markdown",
      "metadata": {
        "id": "Thby-nj5oIVi",
        "colab_type": "text"
      },
      "source": [
        "### 2.4 Visualizar $J(\\theta)$\n",
        "\n",
        "Para comprender mejor la función de costo $J(\\theta)$ grafica el costo en una cuadrícula bidimensional de valores $\\theta_0$ y $\\theta_1$. No necesitarás codificar nada nuevo para esta parte, pero debes comprender cómo el código que has escrito ya está creando estas imágenes.\n",
        "\n",
        "En la siguiente celda, el código se configura para calcular $J(\\theta)$ sobre una cuadrícula de valores utilizando la función `computeCost` que usted escribió previamente. Después de ejecutar la siguiente celda, tendrá una matriz bidimensional de valores $J(\\theta)$. Luego, esos valores se usan para producir gráficos de superficie y contorno de $J(\\theta)$ usando las funciones de matplotlib `plot_surface` y `contourf`. Las gráficas deberían tener un aspecto similar al siguiente:\n",
        "\n",
        "![](Figures/cost_function.png)\n",
        "\n",
        "El propósito de estos gráficos es mostrarle cómo $J(\\theta)$ varía con los cambios en $\\theta_0$ y $\\theta_1$. La función de costo $J(\\theta)$ tiene forma de cuenco y tiene un mínimo global. (Esto es más fácil de ver en el diagrama de contorno que en el diagrama de superficie 3D). Este mínimo es el punto óptimo para $\\theta_0$ y $\\theta_1$, y con cada paso el gradiente descente se acerca a este punto."
      ]
    },
    {
      "cell_type": "code",
      "metadata": {
        "id": "5CAgwwCuoIVj",
        "colab_type": "code",
        "colab": {
          "base_uri": "https://localhost:8080/",
          "height": 326
        },
        "outputId": "1d642d07-edc7-4a0f-e76c-422c184172a5"
      },
      "source": [
        "# Cuadricula sobre la que se va a calcular J\n",
        "theta0_vals = np.linspace(-10, 10, 100)\n",
        "theta1_vals = np.linspace(-1, 4, 100)\n",
        "\n",
        "# inicializar J_vals en una matriz de 0's\n",
        "J_vals = np.zeros((theta0_vals.shape[0], theta1_vals.shape[0]))\n",
        "\n",
        "# Se llena J_vals con los valores de la función de costo\n",
        "for i, theta0 in enumerate(theta0_vals):\n",
        "    for j, theta1 in enumerate(theta1_vals):\n",
        "        J_vals[i, j] = calcularCosto(X, y, [theta0, theta1])[1]\n",
        "        \n",
        "# Debido a la forma en que funcionan las mallas en el comando de navegación, necesitamos\n",
        "# transponer J_vals antes de llamar a surf, o de lo contrario los ejes se voltearán\n",
        "J_vals = J_vals.T\n",
        "\n",
        "# Gráfica de superficie\n",
        "fig = plt.figure(figsize=(12, 5))\n",
        "ax = fig.add_subplot(121, projection='3d')\n",
        "ax.plot_surface(theta0_vals, theta1_vals, J_vals, cmap='viridis')\n",
        "plt.xlabel('theta0')\n",
        "plt.ylabel('theta1')\n",
        "plt.title('Surface')\n",
        "\n",
        "# Gráfica de contorno\n",
        "# Grafica J_vals como 15 contornos espaciados logarítmicamente entre 0.01 y 100\n",
        "ax = plt.subplot(122)\n",
        "plt.contour(theta0_vals, theta1_vals, J_vals, linewidths=2, cmap='viridis', levels=np.logspace(-2, 3, 20))\n",
        "plt.xlabel('theta0')\n",
        "plt.ylabel('theta1')\n",
        "\n",
        "plt.plot(theta[0], theta[1], 'ro', ms=10, lw=2)\n",
        "plt.title('Contour, showing minimum')\n",
        "pass"
      ],
      "execution_count": null,
      "outputs": [
        {
          "output_type": "display_data",
          "data": {
            "image/png": "[encoded data removed]",
            "text/plain": [
              "<Figure size 864x360 with 2 Axes>"
            ]
          },
          "metadata": {
            "tags": [],
            "needs_background": "light"
          }
        }
      ]
    },
    {
      "cell_type": "markdown",
      "metadata": {
        "id": "xqt_Z-q9oIVr",
        "colab_type": "text"
      },
      "source": [
        "## 3 Regresión lineal multivariable\n",
        "\n",
        "En esta parte, implementará una regresión lineal multivariable para predecir los precios de las casas. Supon que estás vendiendo tu casa y quieres saber cuál sería un buen precio de mercado. Una forma de hacerlo es recopilar primero información sobre las casas vendidas recientemente y hacer un modelo de precios de la vivienda.\n",
        "\n",
        "El archivo `Data / ex1data2.txt` contiene un conjunto de capacitación sobre precios de la vivienda en Portland, Oregon. La primera columna es el tamaño de la casa (en pies cuadrados), la segunda columna es el número de habitaciones y la tercera columna es el precio de la casa.\n",
        "\n",
        "<a id=\"section4\"></a>\n",
        "### 3.1 Normalización de las carcaterísticas\n",
        "\n",
        "Comenzamos cargando y mostrando algunos valores de este conjunto de datos. Al observar los valores, ten en cuenta que el tamaño de las casas es aproximadamente 1000 veces el número de dormitorios. Cuando las características difieren en orden de magnitud, el primer escalado de características puede hacer que el gradiente descendente converja mucho más rápidamente."
      ]
    },
    {
      "cell_type": "code",
      "metadata": {
        "id": "lB96eSUIoIVs",
        "colab_type": "code",
        "colab": {
          "base_uri": "https://localhost:8080/",
          "height": 218
        },
        "outputId": "7fd06349-ce1e-484a-a237-96d70d3a150d"
      },
      "source": [
        "# Cargar los datos\n",
        "data = np.loadtxt(os.path.join('Data', 'ex1data2.txt'), delimiter=',')\n",
        "X = data[:, :2]\n",
        "y = data[:, 2]\n",
        "m = y.size\n",
        "\n",
        "# Imprimir algunos puntos\n",
        "print('{:>8s}{:>8s}{:>10s}'.format('X[:,0]', 'X[:, 1]', 'y'))\n",
        "print('-'*26)\n",
        "for i in range(10):\n",
        "    print('{:8.0f}{:8.0f}{:10.0f}'.format(X[i, 0], X[i, 1], y[i]))"
      ],
      "execution_count": null,
      "outputs": [
        {
          "output_type": "stream",
          "text": [
            "  X[:,0] X[:, 1]         y\n",
            "--------------------------\n",
            "    2104       3    399900\n",
            "    1600       3    329900\n",
            "    2400       3    369000\n",
            "    1416       2    232000\n",
            "    3000       4    539900\n",
            "    1985       4    299900\n",
            "    1534       3    314900\n",
            "    1427       3    198999\n",
            "    1380       3    212000\n",
            "    1494       3    242500\n"
          ],
          "name": "stdout"
        }
      ]
    },
    {
      "cell_type": "markdown",
      "metadata": {
        "id": "vacLLhQloIVy",
        "colab_type": "text"
      },
      "source": [
        "Tu tarea aquí es completar el código en la función `featureNormalize`:\n",
        "- Resta el valor medio de cada característica del conjunto de datos.\n",
        "- Después de restar la media, adicionalmente escala (divide) los valores de las características por sus respectivas \"desviaciones estándar\".\n",
        "\n",
        "La desviación estándar es una forma de medir cuánta variación hay en el rango de valores de una característica particular (la mayoría de los puntos de datos estarán dentro de ± 2 desviaciones estándar de la media); Esta es una alternativa al tomar el rango de valores (max-min). En `numpy`, puedes usar la función` std` para calcular la desviación estándar.\n",
        "\n",
        "Por ejemplo, la cantidad `X [:, 0]` contiene todos los valores de $ x_1 $ (tamaños de casas) en el conjunto de entrenamiento, por lo que `np.std (X [:, 0])` calcula la desviación estándar de tamaños de casas\n",
        "En el momento en que se llama a la función `featureNormalize`, la columna adicional de unos correspondiente a $ x_0 = 1 $ aún no se ha agregado a $ X $.\n",
        "\n",
        "Haz esto para todas las características y tu código debería funcionar con conjuntos de datos de todos los tamaños (cualquier número de características / ejemplos). Tenga en cuenta que cada columna de la matriz $ X $ corresponde a una característica.\n",
        "\n",
        "<div class = \"alert alert-block alert-warning\">\n",
        "** Nota de implementación: ** Al normalizar las funciones, es importante\n",
        "guardar los valores utilizados para la normalización: el valor medio y la desviación estándar utilizada para los cálculos. Después de aprender los parámetros. del modelo, a menudo queremos predecir los precios de las casas que no hemos visto antes. Dado un nuevo valor de x (área de sala de estar y número de dormitorios), primero debemos normalizar x usando la media y la desviación estándar que habíamos calculado previamente del conjunto de entrenamiento.\n",
        "</div>\n",
        "<a id=\"featureNormalize\"> </a>"
      ]
    },
    {
      "cell_type": "code",
      "metadata": {
        "id": "w0IDtxyvoIVz",
        "colab_type": "code",
        "colab": {}
      },
      "source": [
        "def  featureNormalize(X):\n",
        "    \"\"\"\n",
        "    Normaliza las características en X. devuelve una versión normalizada de X donde\n",
        "    el valor medio de cada característica es 0 y la desviación estándar\n",
        "    es 1. Este suele ser un buen paso de preprocesamiento cuando se trabaja con\n",
        "    algoritmos de aprendizaje\n",
        "    \n",
        "    Parámetros\n",
        "    ----------\n",
        "    X: array_like\n",
        "        El conjunto de datos de forma (m x n).\n",
        "    \n",
        "    Devuelve\n",
        "    -------\n",
        "    X_norm: array_like\n",
        "        El conjunto de datos normalizado de forma (m x n).\n",
        "    \n",
        "    Instrucciones\n",
        "    ------------\n",
        "    Primero, para cada característica, calcula la media de la característica\n",
        "    y restalo del conjunto de datos, almacenando el valor medio en mu.\n",
        "    Luego, calcula la desviación estándar de cada característica y divide\n",
        "    cada característica por su desviación estándar, almacenando la desviación estándar\n",
        "    en sigma\n",
        "    \n",
        "    Ten en cuenta que X es una matriz donde cada columna es una característica y cada fila es\n",
        "    un ejemplo. Debes realizar la normalización por separado para cada característica.\n",
        "    \n",
        "    Pista\n",
        "    ----\n",
        "    Puedes encontrar útiles las funciones 'np.mean' y 'np.std'.\n",
        "    \"\"\"\n",
        "    # Necesitas establecer estos valores correctamente\n",
        "    X_norm = X.copy()\n",
        "    mu = np.zeros(X.shape[1])\n",
        "    sigma = np.zeros(X.shape[1])\n",
        "    # =========================== TU CÓDIGO AQUÍ =====================\n",
        "    # for i in range(0,len(X)):\n",
        "      # print(X[:,i])\n",
        "      # mu+=np.mean(X[:,i])\n",
        "      # X_norm+=np.mean(X[:,i])    \n",
        "      # sigma+=np.std(X[:,i])\n",
        "      # X_norm/=np.std(X[:,i])  \n",
        "    \n",
        "    X_norm[:,0] = (X[:,0] - np.mean(X[:,0])) / np.std(X[:,0])\n",
        "    X_norm[:,1] = (X[:,1] - np.mean(X[:,1])) / np.std(X[:,1])\n",
        "\n",
        "    mu_0=(X[:,0] - np.mean(X[:,0]))\n",
        "    mu[0]=np.sum(mu_0, dtype = np.float32)\n",
        "    mu_1=(X[:,1] - np.mean(X[:,1]))\n",
        "    mu[1]=np.sum(mu_1, dtype = np.float32)\n",
        "\n",
        "\n",
        "    sigma_0=(X[:,0]/np.std(X[:,0]))\n",
        "    sigma[0]=np.sum(sigma_0, dtype = np.float32)\n",
        "    sigma_1=(X[:,1]/np.std(X[:,1]))\n",
        "    sigma[1]=np.sum(sigma_1, dtype = np.float32)\n",
        "    \n",
        "    # ================================================================\n",
        "    return X_norm, mu, sigma"
      ],
      "execution_count": null,
      "outputs": []
    },
    {
      "cell_type": "markdown",
      "metadata": {
        "id": "4-vFWp5LoIV2",
        "colab_type": "text"
      },
      "source": [
        "Ejecuta la siguiente celda para ejecutar la función implementada `featureNormalize`."
      ]
    },
    {
      "cell_type": "code",
      "metadata": {
        "id": "asFGnm_DoIV3",
        "colab_type": "code",
        "colab": {
          "base_uri": "https://localhost:8080/",
          "height": 50
        },
        "outputId": "6e9c9b41-b0f5-48ef-ea9a-30a7e3e5a392"
      },
      "source": [
        "# Llama featureNormalize en los datos cargados\n",
        "X_norm, mu, sigma = featureNormalize(X)\n",
        "# print(X_norm)\n",
        "print('Media calculada:', mu)\n",
        "print('Desviación estándar calculada:', sigma)"
      ],
      "execution_count": null,
      "outputs": [
        {
          "output_type": "stream",
          "text": [
            "Media calculada: [-6.10351562e-04  9.38773155e-07]\n",
            "Desviación estándar calculada: [119.60275269 197.91647339]\n"
          ],
          "name": "stdout"
        }
      ]
    },
    {
      "cell_type": "markdown",
      "metadata": {
        "id": "-9ZYKLY_oIV-",
        "colab_type": "text"
      },
      "source": [
        "Después de probar la función `featureNormalize`, agregamos el término de intercepción a ` X_norm`:"
      ]
    },
    {
      "cell_type": "code",
      "metadata": {
        "id": "fJIt1wm2oIV_",
        "colab_type": "code",
        "colab": {}
      },
      "source": [
        "# Agregar término de intercepción a X\n",
        "X = np.concatenate([np.ones((m, 1)), X_norm], axis=1)"
      ],
      "execution_count": null,
      "outputs": []
    },
    {
      "cell_type": "markdown",
      "metadata": {
        "id": "WS27Ae9NoIWI",
        "colab_type": "text"
      },
      "source": [
        "<a id=\"section5\"></a>\n",
        "### 3.2 Gradiente descendente\n",
        "\n",
        "\n",
        "Anteriormente, implementó el gradiente descendente en un problema de regresión univariante. La única diferencia ahora es que hay una característica más en la matriz $ X $. La función de hipótesis y la actualización del gradiente descendente de lote la regla permanece sin cambios.\n",
        "\n",
        "Debe completar el código para las funciones `computeCostMulti` y `gradientDescentMulti` para implementar la función de costo y el gradiente descendente para la regresión lineal con múltiples variables. Si su código en la parte anterior (variable única) ya admite múltiples variables, también puede usarlo aquí. Asegúrese de que su código sea compatible con cualquier número de características y esté bien vectorizado.\n",
        "Puede usar la propiedad `shape` de las matrices `numpy` para averiguar cuántas características están presentes en el conjunto de datos.\n",
        "\n",
        "<div class=\"alert alert-block alert-warning\">\n",
        "**Nota para la implementación:** En el caso multivariante, la función de costo puede escribirse en la siguiente forma vectorizada:\n",
        "\n",
        "$$ J(\\theta) = \\frac{1}{2m}(X\\theta - \\vec{y})^T(X\\theta - \\vec{y}) $$\n",
        "\n",
        "Donde: \n",
        "\n",
        "$$ X = \\begin{pmatrix}\n",
        "          - (x^{(1)})^T - \\\\\n",
        "          - (x^{(2)})^T - \\\\\n",
        "          \\vdots \\\\\n",
        "          - (x^{(m)})^T - \\\\ \\\\\n",
        "        \\end{pmatrix} \\qquad \\mathbf{y} = \\begin{bmatrix} y^{(1)} \\\\ y^{(2)} \\\\ \\vdots \\\\ y^{(m)} \\\\\\end{bmatrix} $$\n",
        "\n",
        "La versión vectorizada es eficiente cuando trabajas con herramientas de computación numérica como `numpy`. Si es un experto en operaciones matriciales, puede probarse a sí mismo que las dos formas son equivalentes.\n",
        "\n",
        "</div>\n",
        "\n",
        "<a id=\"computeCostMulti\"></a>"
      ]
    },
    {
      "cell_type": "code",
      "metadata": {
        "id": "bmiHMAdooIWK",
        "colab_type": "code",
        "colab": {}
      },
      "source": [
        "def computeCostMulti(X, y, theta):\n",
        "    \"\"\"\n",
        "    Calcule el costo de la regresión lineal con múltiples variables.\n",
        "    Calcula el costo de usar theta como parámetro de regresión lineal para ajustar los puntos de datos en X e y.\n",
        "\n",
        "    Parametros\n",
        "    ----------\n",
        "    X : array_like\n",
        "        El data set de dimensiones (m x n+1).\n",
        "    \n",
        "    y : array_like\n",
        "        Un vector de dimension (m, ) para los valores en un punto de datos dado.\n",
        "    \n",
        "    theta : array_like\n",
        "        Los parametros de la regresión lineal. un vector de dimesiones (n+1, )\n",
        "    \n",
        "    Retorna/Devuelve\n",
        "    -------\n",
        "    J : float\n",
        "        El valor de la función de costo. \n",
        "    \n",
        "    Instrucciones\n",
        "    ------------\n",
        "    Calcule el costo de una elección particular de theta. Debería dar a J el valor del costo.\n",
        "    \"\"\"\n",
        "    # Initialize some useful values\n",
        "    m = y.shape[0] # number of training examples\n",
        "    \n",
        "    # You need to return the following variable correctly\n",
        "    J = 0\n",
        "    error=0\n",
        "    # ======================= YOUR CODE HERE ===========================\n",
        "    # for i in range(0,len(X)):\n",
        "    #   t=((X[i]*theta[1])-y[i]).transpose()\n",
        "    #   print((X[i]*theta[1])-y[i])\n",
        "    #   error+=t*((X[i]*theta[1])-y[i])\n",
        "    t=((X.dot(theta)-y)).transpose()\n",
        "    error=t@((np.dot(X,theta)-y))\n",
        "    # print(np.dot(X,theta))\n",
        "    J=error/(2*m)\n",
        "    # J = (t)@(X.dot(theta) - y)/(2 * m)\n",
        "    # hypothesis = np.dot(X, theta)\n",
        "    # loss = hypothesis - y\n",
        "    # J = np.sum(loss ** 2) / (2 * m)\n",
        "    # ==================================================================\n",
        "    return J\n"
      ],
      "execution_count": null,
      "outputs": []
    },
    {
      "cell_type": "code",
      "metadata": {
        "id": "Gi89ACHee8OC",
        "colab_type": "code",
        "colab": {
          "base_uri": "https://localhost:8080/",
          "height": 34
        },
        "outputId": "188bfeae-8a89-4228-c3e9-2d0cd07d5d10"
      },
      "source": [
        "J = computeCostMulti(X, y, theta=np.array([-1, 2, 2]))\n",
        "print(J)"
      ],
      "execution_count": null,
      "outputs": [
        {
          "output_type": "stream",
          "text": [
            "65591567579.9464\n"
          ],
          "name": "stdout"
        }
      ]
    },
    {
      "cell_type": "markdown",
      "metadata": {
        "id": "uPJIu-MnoIWX",
        "colab_type": "text"
      },
      "source": [
        "<a id=\"gradientDescentMulti\"></a>"
      ]
    },
    {
      "cell_type": "code",
      "metadata": {
        "id": "fTRf9XD6oIWY",
        "colab_type": "code",
        "colab": {}
      },
      "source": [
        "def gradientDescentMulti(X, y, theta, alpha, num_iters):\n",
        "    \"\"\"\n",
        "    Realiza el gradiente descendente para aprender theta.\n",
        "    Actualiza theta tomando pasos de num_iters con tasa de aprendizaje alfa.\n",
        "        \n",
        "    Parámetros\n",
        "    ----------\n",
        "    X : array_like\n",
        "        El dataset de dimensiones (m x n+1).\n",
        "    \n",
        "    y : array_like\n",
        "        un vector de dimensiones (m, ) para los valores en un punto de datos dado.\n",
        "    \n",
        "    theta : array_like\n",
        "        Los parámetros de la regresión lineal. Un vector de dimensión (n+1, )\n",
        "    \n",
        "    alpha : float\n",
        "        La tasa de aprendizaje del gradiente descendente. \n",
        "    \n",
        "    num_iters : int\n",
        "        Número de iteraciones al ejecutar el gradiente descendente. \n",
        "    \n",
        "    Retorna\n",
        "    -------\n",
        "    theta : array_like\n",
        "        Los parámetros de regresión lineal aprendidos. Un vector de dimensiones (n+1, ).\n",
        "    \n",
        "    J_history : list\n",
        "        Una lista de Python para los valores de la función de costo después de cada iteración.\n",
        "    \n",
        "    Instrucciones\n",
        "    ------------\n",
        "    Realice un solo paso del gradiente descendente en el vector de parámetros theta.\n",
        "\n",
        "    Durante la depuración, puede ser útil imprimir los valores de\n",
        "    la función de costo (computeCost) y el gradiente aquí.\n",
        "    \"\"\"\n",
        "    # Inicialice algunos valores útiles\n",
        "    m = y.shape[0] # numero de de muestras de entrenamiento de ejemplo\n",
        "    \n",
        "    # Haga una copia de theta, que se actualizará por el gradiente descendente\n",
        "    theta = theta.copy()\n",
        "    \n",
        "    J_history = []\n",
        "    xTrans = X.transpose()\n",
        "    for i in range(num_iters):\n",
        "        # ======================= TU CÓDIGO AQUÍ ==========================\n",
        "      h=np.dot(X, theta)\n",
        "      loss = h - y\n",
        "      gradient = np.dot(xTrans, loss) / m\n",
        "      theta = theta - alpha * gradient\n",
        "        \n",
        "        # =================================================================\n",
        "        \n",
        "        # Guarde la función de costo J en cada iteración\n",
        "      J_history.append(computeCostMulti(X, y, theta))\n",
        "        \n",
        "    \n",
        "    return theta, J_history"
      ],
      "execution_count": null,
      "outputs": []
    },
    {
      "cell_type": "code",
      "metadata": {
        "id": "Yjf684x_fo6f",
        "colab_type": "code",
        "colab": {
          "base_uri": "https://localhost:8080/",
          "height": 54
        },
        "outputId": "c35ef041-4f72-4906-94ae-3cc296197942"
      },
      "source": [
        "theta = np.zeros (3)\n",
        "\n",
        "# algunas configuraciones de gradiente descendente\n",
        "iterations = 50\n",
        "alpha = 0.01\n",
        "\n",
        "theta, J_history = gradientDescentMulti(X ,y, theta, alpha, iterations)\n",
        "print(J_history)\n"
      ],
      "execution_count": null,
      "outputs": [
        {
          "output_type": "stream",
          "text": [
            "[64297776251.62009, 63031018305.52133, 61790694237.532486, 60576236901.99104, 59387091739.988594, 58222716488.38939, 57082580895.8954, 55966166445.97887, 54872966086.50778, 53802483965.89506, 52754235175.605446, 51727745498.85994, 50722551165.380974, 49738198612.02587, 48774244249.16026, 47830254232.62681, 46905804241.168976, 46000479259.17251, 45113873364.59137, 44245589521.92843, 43395239380.14428, 42562443075.37121, 41746829038.31239, 40948033806.209465, 40165701839.264984, 39399485341.4087, 38649044085.30025, 37914045241.46272, 37194163211.4454, 36489079464.915146, 35798482380.58049, 35122067090.852936, 34459535330.15381, 33810595286.776836, 33174961458.21924, 32552354509.895866, 31942501137.15358, 31345133930.505226, 30759991244.00422, 30186817066.683086, 29625360896.98129, 29075377620.08948, 28536627388.139034, 28008875503.167995, 27491892302.795826, 26985453048.541317, 26489337816.719707, 26003331391.856533, 25527223162.557613, 25060807019.775593]\n"
          ],
          "name": "stdout"
        }
      ]
    },
    {
      "cell_type": "markdown",
      "metadata": {
        "id": "1O8molM9oIWe",
        "colab_type": "text"
      },
      "source": [
        "#### 3.2.1 Selecting learning rates\n",
        "\n",
        "En esta parte del ejercicio, podrá probar diferentes tasas de aprendizaje para el conjunto de datos y encontrar una tasa de aprendizaje que converja rápidamente. Puede cambiar la tasa de aprendizaje modificando el siguiente código, cambiando la parte del código que establece la tasa de aprendizaje.\n",
        "\n",
        "Utilice su implementación de la función `gradientDescentMulti` y ejecute el gradiente descendente durante aproximadamente 50 iteraciones a la velocidad de aprendizaje elegida. La función también debe devolver el historial de los valores $ J (\\ theta) $ en un vector $ J $.\n",
        "\n",
        "Después de la última iteración, trace los valores de J contra el número de iteraciones.\n",
        "\n",
        "Si eligió una tasa de aprendizaje dentro de un buen rango, su trama se verá similar a la siguiente Figura.\n",
        "\n",
        "![](Figures/learning_rate.png)\n",
        "\n",
        "Si su gráfico se ve muy diferente, especialmente si su valor de $J(\\theta)$ aumenta o incluso \"explota\", ajuste su tasa de aprendizaje e intente nuevamente. Recomendamos probar valores de la tasa de aprendizaje $\\alpha$ en una escala logarítmica, en pasos multiplicativos de aproximadamente 3 veces el valor anterior (es decir, 0.3, 0.1, 0.03, 0.01 y así sucesivamente). También es posible que desee ajustar el número de iteraciones que está ejecutando, este le ayudará a ver la tendencia general en la curva.\n",
        "\n",
        "<div class=\"alert alert-block alert-warning\">\n",
        "**Nota para la implementación:** \n",
        "Si su tasa de aprendizaje es demasiado grande, $J(\\theta)$ puede divergir y \"explotar\", lo que da como resultado valores que son demasiado grandes para los cálculos en la computadora. En estas situaciones,`numpy` tenderá a devolver\n",
        "NaNs. NaN significa \"no un número\" y a menudo es causado por operaciones indefinidas que involucran −∞ and +∞.\n",
        "</div>\n",
        "\n",
        "<div class=\"alert alert-block alert-warning\">\n",
        "**Tip para MATPLOTLIB:** Para comparar cómo las diferentes tasas de aprendizaje afectan la convergencia, es útil graficar  $J$ para varias tasas de aprendizaje en la misma figura. Esto se puede hacer convirtiendo a `alpha` en una lista de python, recorriendo los valores dentro de esta lista y llamando a la función plot en cada iteración del loop. También es útil tener una leyenda para distinguir las diferentes líneas dentro de la trama. Busque en línea `pyplot.legend` para obtener ayuda sobre cómo mostrar leyendas en` matplotlib`.\n",
        "</div>\n",
        "\n",
        "Observe los cambios en las curvas de convergencia a medida que cambia la tasa de aprendizaje. Con una tasa de aprendizaje pequeña, debería encontrar que el gradiente descendente tarda mucho en converger al valor óptimo. Por el contrario, con una gran tasa de aprendizaje, ¡el gradiente descendente podría no converger o incluso divergir!\n",
        "Usando la mejor tasa de aprendizaje que encontraste, ejecuta el script\n",
        "para el gradiente descendente hasta la convergencia para encontrar los valores finales de $\\theta$. Luego, use este valor de $\\theta$ para predecir el precio de una casa con 1650 pies cuadrados y\n",
        "3 dormitorios. Utilizará el valor más adelante para verificar su implementación de las ecuaciones normales. ¡No olvide normalizar sus funciones cuando haga esta predicción!"
      ]
    },
    {
      "cell_type": "code",
      "metadata": {
        "id": "Xiylco4coIWf",
        "colab_type": "code",
        "colab": {
          "base_uri": "https://localhost:8080/",
          "height": 344
        },
        "outputId": "be0bdef9-7568-4524-ac97-eb1e2dd0a75e"
      },
      "source": [
        "\"\"\"\n",
        "Instrucciones\n",
        "------------\n",
        "Le proporcionamos el siguiente código de inicio, que ejecuta\n",
        "el gradiente descendente con una tasa de aprendizaje particular (alfa).\n",
        "\n",
        "Su primera tarea es asegurarse de que sus funciones - `computeCost`\n",
        "y \"gradientDescent\" ya funcionan con este código de inicio y\n",
        "Soportan múltiples variables.\n",
        "\n",
        "Después de eso, intente ejecutar el gradiente descendente con diferentes valores de\n",
        "alfa y ver cuál le da el mejor resultado.\n",
        "\n",
        "Finalmente, debe completar el código al final para predecir el precio\n",
        "de una casa de 1650 pies cuadrados y 3 dormitorios.\n",
        "\n",
        "Pista\n",
        "----\n",
        "En la predicción, asegúrese de hacer la misma función de normalización.\n",
        "\"\"\"\n",
        "#Escoja algún valor de alfa - cambie esto\n",
        "alpha = 0.1\n",
        "num_iters = 400\n",
        "\n",
        "# inicialice teta y corra el gradiente descendente\n",
        "theta = np.zeros(3)\n",
        "theta, J_history = gradientDescentMulti(X, y, theta, alpha, num_iters)\n",
        "\n",
        "# Cree el gráfico de convergencia\n",
        "plt.plot(np.arange(len(J_history)), J_history, lw=2)\n",
        "plt.xlabel('Number of iterations')\n",
        "plt.ylabel('Cost J')\n",
        "\n",
        "# Muestre el resultado del gradiente descendente\n",
        "print('Teta calculado a partir del gradiente descendente: {:s}'.format(str(theta)))\n",
        "\n",
        "# Estime el precio de una casa de 1650 pies cuadrados y 3 habitaciones\n",
        "# ======================= SU CÓDIGO AQUÍ ===========================\n",
        "\n",
        "# Recuerde que la primera columna de X es toda-unos.\n",
        "# Por lo tanto, no necesita ser normalizada.\n",
        "\n",
        "price = 0   # Deberías cambiar esto\n",
        "\n",
        "# ===================================================================\n",
        "\n",
        "print('Precio pronosticado de una casa de 1650 pies cuadrados y 3 habitaciones (Usando el gradiente descendente): ${:.0f}'.format(price))"
      ],
      "execution_count": null,
      "outputs": [
        {
          "output_type": "stream",
          "text": [
            "theta computed from gradient descent: [340412.65957447 109447.79558639  -6578.3539709 ]\n",
            "Predicted price of a 1650 sq-ft, 3 br house (using gradient descent): $0\n"
          ],
          "name": "stdout"
        },
        {
          "output_type": "display_data",
          "data": {
            "image/png": "[encoded data removed]",
            "text/plain": [
              "<Figure size 432x288 with 1 Axes>"
            ]
          },
          "metadata": {
            "tags": [],
            "needs_background": "light"
          }
        }
      ]
    },
    {
      "cell_type": "markdown",
      "metadata": {
        "id": "L53T9p3qoIWk",
        "colab_type": "text"
      },
      "source": [
        "<a id=\"section7\"></a>\n",
        "### 3.3 Ecuaciones normales\n",
        "aprendiste que la solución de forma más cercana para la regresión lineal es\n",
        "\n",
        "$$ \\ theta = \\ left (X ^ T X \\ right) ^ {- 1} X ^ T \\ vec {y} $$\n",
        "\n",
        "El uso de esta fórmula no requiere ningun escalamineto de características, y se obtiene una solución exacta en un cálculo: no hay \"cliclo hasta la convergencia\" como en el gradiente descendente.\n",
        "\n",
        "Primero, cargamos nuevamente los datos para asegurarnos de que las variables no se hayan modificado. Recuerda que si bien no necesita escalar las características, aún debemos agregar una columna de unos a la matriz $ X $ para tener un término de intercepción ($ \\ theta_0 $). El código en la siguiente celda agregará la columna de unos a X."
      ]
    },
    {
      "cell_type": "code",
      "metadata": {
        "id": "2t2ZPqK8oIWl",
        "colab_type": "code",
        "colab": {}
      },
      "source": [
        "# Cargamos los datos\n",
        "data = np.loadtxt(os.path.join('Data', 'ex1data2.txt'), delimiter=',')\n",
        "X = data[:, :2]\n",
        "y = data[:, 2]\n",
        "m = y.size\n",
        "X = np.concatenate([np.ones((m, 1)), X], axis=1)"
      ],
      "execution_count": null,
      "outputs": []
    },
    {
      "cell_type": "markdown",
      "metadata": {
        "id": "_J6eD2ckoIWq",
        "colab_type": "text"
      },
      "source": [
        "Completa el código para la función `normalEqn` a continuación, para usar la fórmula anterior para calcular $ \\ theta $.\n",
        "\n",
        "<a id=\"normalEqn\"></a>"
      ]
    },
    {
      "cell_type": "code",
      "metadata": {
        "id": "3pTm8TiooIWq",
        "colab_type": "code",
        "colab": {}
      },
      "source": [
        "def normalEqn(X, y):\n",
        "    \"\"\"\n",
        "    Calcula la solución de la forma más cercana para la regresión lineal utilizando las ecuaciones normales.\n",
        "    \n",
        "     Parámetros\n",
        "     ----------\n",
        "     X: array_like\n",
        "         El conjunto de datos de forma (m x n + 1).\n",
        "    \n",
        "     y: array_like\n",
        "         El valor en cada punto de datos. Un vector de forma (m,).\n",
        "    \n",
        "     Devuelve\n",
        "     -------\n",
        "     theta: array_like\n",
        "         Parámetros de regresión lineal estimados. Un vector de forma (n + 1,).\n",
        "    \n",
        "     Instrucciones\n",
        "     ------------\n",
        "     Completa el código para calcular la solución de la forma más cercana a la regresión lineal y poner el resultado en theta.\n",
        "    \n",
        "     Pista\n",
        "     ----\n",
        "     Busqca la función `np.linalg.pinv` para calcular la matriz inversa.\n",
        "    \"\"\"\n",
        "    theta = np.zeros(X.shape[1])\n",
        "    XT = X.T\n",
        "    # ===================== TU CÓDIGO AQUÍ ============================\n",
        "    theta=np.linalg.inv(XT @ X) @ XT @ y.T\n",
        "    \n",
        "    # =================================================================\n",
        "    return theta"
      ],
      "execution_count": null,
      "outputs": []
    },
    {
      "cell_type": "markdown",
      "metadata": {
        "id": "Uu7ME5QSoIWv",
        "colab_type": "text"
      },
      "source": [
        "Ahora, una vez que haya encontrado $ \\ theta $ usando estE\n",
        "método, usalo para hacer una predicción de precios para una casa de 1650 pies cuadrados con\n",
        "3 dormitorios. Deberías encontrar que da el mismo precio previsto que el valor\n",
        "que obtuviste usando el ajuste del modelo con gradiente descendente."
      ]
    },
    {
      "cell_type": "code",
      "metadata": {
        "id": "PDd_qlZnoIWw",
        "colab_type": "code",
        "colab": {
          "base_uri": "https://localhost:8080/",
          "height": 50
        },
        "outputId": "e9beb494-b2a6-48ee-e9a0-9dab90682c8d"
      },
      "source": [
        "# Calcular los parámetros a partir de la ecuación normal.\n",
        "theta = normalEqn(X, y);\n",
        "\n",
        "# Mostrar el resultado de la ecuación normal\n",
        "print('Theta calculado a partir de las ecuaciones normales: {:s}'.format(str(theta)));\n",
        "\n",
        "# Estime el precio de una casa de 1650 pies cuadrados y 3 habitaciones\n",
        "# ====================== TU CÓDIGO AQUÍ ======================\n",
        "X_1650 = [1650, 3]\n",
        "X_new = np.append(1, X_1650)\n",
        "pred=np.dot(X_new,theta)\n",
        "price = pred # Debes cambiar esto\n",
        "\n",
        "# ============================================================\n",
        "\n",
        "print('Precio previsto de una casa de 1650 pies cuadrados y 3 habitaciones (usando ecuaciones normales): ${:.0f}'.format(price))"
      ],
      "execution_count": null,
      "outputs": [
        {
          "output_type": "stream",
          "text": [
            "Theta calculado a partir de las ecuaciones normales: [89597.9095428    139.21067402 -8738.01911233]\n",
            "Precio previsto de una casa de 1650 pies cuadrados y 3 habitaciones (usando ecuaciones normales): $293081\n"
          ],
          "name": "stdout"
        }
      ]
    },
    {
      "cell_type": "markdown",
      "metadata": {
        "id": "z9ujzGqoEy0K",
        "colab_type": "text"
      },
      "source": [
        "**Importar regresión lineal, fit y predict el precio de la casa con 1650 pies cuadrados con la librería sklearn**"
      ]
    },
    {
      "cell_type": "code",
      "metadata": {
        "id": "1KjGGTESsP_s",
        "colab_type": "code",
        "colab": {}
      },
      "source": [
        "from sklearn.linear_model import LinearRegression"
      ],
      "execution_count": null,
      "outputs": []
    },
    {
      "cell_type": "code",
      "metadata": {
        "id": "t3O4a3epsVLG",
        "colab_type": "code",
        "colab": {}
      },
      "source": [
        "reg = LinearRegression().fit(X, y)"
      ],
      "execution_count": null,
      "outputs": []
    },
    {
      "cell_type": "code",
      "metadata": {
        "id": "aGQtbfGAsgSG",
        "colab_type": "code",
        "colab": {
          "base_uri": "https://localhost:8080/",
          "height": 34
        },
        "outputId": "a40c7b53-1696-49ff-ff82-1d24c62489ee"
      },
      "source": [
        "reg.score(X, y)"
      ],
      "execution_count": null,
      "outputs": [
        {
          "output_type": "execute_result",
          "data": {
            "text/plain": [
              "0.7329450180289142"
            ]
          },
          "metadata": {
            "tags": []
          },
          "execution_count": 127
        }
      ]
    },
    {
      "cell_type": "code",
      "metadata": {
        "id": "g8AG0wrHsjqI",
        "colab_type": "code",
        "colab": {
          "base_uri": "https://localhost:8080/",
          "height": 34
        },
        "outputId": "3e48feaa-4729-4919-d9ad-9857e38fee37"
      },
      "source": [
        "X_1650 = np.array([[1, 1650, 3]])\n",
        "reg.predict(X_1650)"
      ],
      "execution_count": null,
      "outputs": [
        {
          "output_type": "execute_result",
          "data": {
            "text/plain": [
              "array([293081.4643349])"
            ]
          },
          "metadata": {
            "tags": []
          },
          "execution_count": 133
        }
      ]
    }
  ]
}